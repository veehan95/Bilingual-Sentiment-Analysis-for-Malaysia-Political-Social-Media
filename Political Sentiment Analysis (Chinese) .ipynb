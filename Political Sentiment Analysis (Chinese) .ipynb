{
 "cells": [
  {
   "cell_type": "markdown",
   "metadata": {},
   "source": [
    "# Political Sentiment Analysis using Tensorflow (English)\n",
    "---\n",
    "By Tan Vee Han\n",
    "\n",
    "Supervisor Dr. Victor Tan Hock Kim"
   ]
  },
  {
   "cell_type": "markdown",
   "metadata": {},
   "source": [
    "## Loading and cleaning dataset"
   ]
  },
  {
   "cell_type": "code",
   "execution_count": 1,
   "metadata": {},
   "outputs": [
    {
     "name": "stderr",
     "output_type": "stream",
     "text": [
      "c:\\users\\cloud\\appdata\\local\\conda\\conda\\envs\\tensorflow\\lib\\importlib\\_bootstrap.py:222: RuntimeWarning: numpy.dtype size changed, may indicate binary incompatibility. Expected 96, got 88\n",
      "  return f(*args, **kwds)\n",
      "c:\\users\\cloud\\appdata\\local\\conda\\conda\\envs\\tensorflow\\lib\\importlib\\_bootstrap.py:222: RuntimeWarning: numpy.dtype size changed, may indicate binary incompatibility. Expected 96, got 88\n",
      "  return f(*args, **kwds)\n"
     ]
    },
    {
     "name": "stdout",
     "output_type": "stream",
     "text": [
      "curses is not supported on this machine (please install/reinstall curses for an optimal experience)\n"
     ]
    }
   ],
   "source": [
    "# importing libraries\n",
    "%matplotlib inline\n",
    "import json\n",
    "import matplotlib.pyplot as plt\n",
    "import numpy as np\n",
    "import os\n",
    "import pandas as pd\n",
    "from random import shuffle\n",
    "import re\n",
    "import tensorflow as tf\n",
    "import time\n",
    "from nltk.corpus import wordnet\n",
    "from nltk.corpus import stopwords\n",
    "from tflearn.data_utils import VocabularyProcessor\n"
   ]
  },
  {
   "cell_type": "code",
   "execution_count": 2,
   "metadata": {},
   "outputs": [],
   "source": [
    "# Change the file locaton according to the location you stored the dataset\n",
    "file = r'ch_data.csv'"
   ]
  },
  {
   "cell_type": "code",
   "execution_count": 3,
   "metadata": {},
   "outputs": [],
   "source": [
    "# reading raw dataset\n",
    "raw_data = pd.read_csv(file, encoding = \"utf-8-sig\")\n",
    "\n",
    "# Cloning the dataset\n",
    "data = raw_data"
   ]
  },
  {
   "cell_type": "code",
   "execution_count": 4,
   "metadata": {},
   "outputs": [
    {
     "data": {
      "text/plain": [
       "semantic_value\n",
       "negative    466\n",
       "neutral     390\n",
       "positive    331\n",
       "Name: _id, dtype: int64"
      ]
     },
     "execution_count": 4,
     "metadata": {},
     "output_type": "execute_result"
    }
   ],
   "source": [
    "data.groupby('semantic_value')['_id'].nunique()"
   ]
  },
  {
   "cell_type": "markdown",
   "metadata": {},
   "source": [
    "### Cleaning dataset"
   ]
  },
  {
   "cell_type": "code",
   "execution_count": 5,
   "metadata": {},
   "outputs": [],
   "source": [
    "# Calculating number of alphabertic words in a dataset\n",
    "data['word_count'] = data.value.apply(lambda x: len(x))\n",
    "filter_data = data"
   ]
  },
  {
   "cell_type": "markdown",
   "metadata": {},
   "source": [
    "## Seperating dataset"
   ]
  },
  {
   "cell_type": "code",
   "execution_count": 6,
   "metadata": {},
   "outputs": [],
   "source": [
    "# Gathering labeled data\n",
    "pos_val = filter_data[filter_data.semantic_value == \"positive\"]\n",
    "neg_val = filter_data[filter_data.semantic_value == \"negative\"]\n",
    "neu_val = filter_data[filter_data.semantic_value == \"neutral\"]\n",
    "\n",
    "# Spliting into train and test dataset\n",
    "train_set = pd.concat([pos_val[:333], neg_val[:333], neu_val[:333]])\n",
    "test_set = pd.concat([pos_val[333:], neg_val[333:], neu_val[333:]])"
   ]
  },
  {
   "cell_type": "code",
   "execution_count": 7,
   "metadata": {},
   "outputs": [
    {
     "name": "stdout",
     "output_type": "stream",
     "text": [
      "Total number of valid dataset: 157709\n",
      "Total number of train dataset: 997\n",
      "Total number of test dataset: 190\n"
     ]
    }
   ],
   "source": [
    "# Print dataset Info\n",
    "print(\"Total number of valid dataset:\", filter_data.loc[filter_data.semantic_value != \"unassigned\",'_id'].count())\n",
    "print(\"Total number of train dataset:\", train_set._id.count())\n",
    "print(\"Total number of test dataset:\", test_set._id.count())"
   ]
  },
  {
   "cell_type": "markdown",
   "metadata": {},
   "source": [
    "### Graphs"
   ]
  },
  {
   "cell_type": "code",
   "execution_count": 8,
   "metadata": {},
   "outputs": [
    {
     "data": {
      "text/plain": [
       "<matplotlib.axes._subplots.AxesSubplot at 0x1b6b4734b38>"
      ]
     },
     "execution_count": 8,
     "metadata": {},
     "output_type": "execute_result"
    },
    {
     "data": {
      "image/png": "[encoded data removed]",
      "text/plain": [
       "<Figure size 432x288 with 1 Axes>"
      ]
     },
     "metadata": {},
     "output_type": "display_data"
    }
   ],
   "source": [
    "# Word count across the dataset\n",
    "filter_data.groupby('word_count')['_id'].count().plot()"
   ]
  },
  {
   "cell_type": "code",
   "execution_count": 9,
   "metadata": {},
   "outputs": [
    {
     "data": {
      "text/plain": [
       "count    157709.000000\n",
       "mean         41.732336\n",
       "std          44.514157\n",
       "min           1.000000\n",
       "25%          16.000000\n",
       "50%          30.000000\n",
       "75%          54.000000\n",
       "max        1949.000000\n",
       "Name: word_count, dtype: float64"
      ]
     },
     "execution_count": 9,
     "metadata": {},
     "output_type": "execute_result"
    }
   ],
   "source": [
    "filter_data['word_count'].describe()"
   ]
  },
  {
   "cell_type": "markdown",
   "metadata": {},
   "source": [
    "## Processing Dataset"
   ]
  },
  {
   "cell_type": "code",
   "execution_count": 10,
   "metadata": {},
   "outputs": [],
   "source": [
    "# Define dataset size\n",
    "data_set_size = 300"
   ]
  },
  {
   "cell_type": "code",
   "execution_count": 11,
   "metadata": {},
   "outputs": [],
   "source": [
    "# Load data into list\n",
    "train_pos = train_set.loc[train_set.semantic_value == \"positive\", \"value\"].tolist()\n",
    "train_neg = train_set.loc[train_set.semantic_value == \"negative\", \"value\"].tolist()\n",
    "test_pos = test_set.loc[test_set.semantic_value == \"positive\", \"value\"].tolist()\n",
    "test_neg = test_set.loc[test_set.semantic_value == \"negative\", \"value\"].tolist()\n",
    "    \n",
    "total_x = np.concatenate([train_pos, train_neg, test_pos, test_neg])\n",
    "train_y = np.concatenate([[[0, 1] for _ in range(data_set_size)], \n",
    "                          [[1, 0] for _ in range(data_set_size)]])\n",
    "test_y = np.concatenate([[[0, 1] for _ in range(data_set_size)], \n",
    "                         [[1, 0] for _ in range(data_set_size)]])"
   ]
  },
  {
   "cell_type": "code",
   "execution_count": 12,
   "metadata": {},
   "outputs": [
    {
     "name": "stdout",
     "output_type": "stream",
     "text": [
      "WARNING:tensorflow:From c:\\users\\cloud\\appdata\\local\\conda\\conda\\envs\\tensorflow\\lib\\site-packages\\tflearn\\data_utils.py:201: VocabularyProcessor.__init__ (from tensorflow.contrib.learn.python.learn.preprocessing.text) is deprecated and will be removed in a future version.\n",
      "Instructions for updating:\n",
      "Please use tensorflow/transform or tf.data.\n",
      "WARNING:tensorflow:From c:\\users\\cloud\\appdata\\local\\conda\\conda\\envs\\tensorflow\\lib\\site-packages\\tensorflow\\contrib\\learn\\python\\learn\\preprocessing\\text.py:154: CategoricalVocabulary.__init__ (from tensorflow.contrib.learn.python.learn.preprocessing.categorical_vocabulary) is deprecated and will be removed in a future version.\n",
      "Instructions for updating:\n",
      "Please use tensorflow/transform or tf.data.\n",
      "WARNING:tensorflow:From c:\\users\\cloud\\appdata\\local\\conda\\conda\\envs\\tensorflow\\lib\\site-packages\\tensorflow\\contrib\\learn\\python\\learn\\preprocessing\\text.py:170: tokenizer (from tensorflow.contrib.learn.python.learn.preprocessing.text) is deprecated and will be removed in a future version.\n",
      "Instructions for updating:\n",
      "Please use tensorflow/transform or tf.data.\n"
     ]
    }
   ],
   "source": [
    "# Convert reviews into padded word indexes\n",
    "num_words = 250 # Based on graph (want to capture most reviews without too much padding)\n",
    "vocab_processor = VocabularyProcessor(num_words).fit_transform(total_x)\n",
    "total_x_vector = np.array(list(vocab_processor))\n",
    "train_x_vector = total_x_vector[:500]\n",
    "test_x_vector = total_x_vector[500:]\n",
    "\n",
    "# Shuffle data\n",
    "shuffled1 = np.random.permutation(np.arange(len(train_x_vector)))\n",
    "train_x_vector_shuffled = train_x_vector[shuffled1]\n",
    "train_y_shuffled = train_y[shuffled1]\n",
    "shuffled2 = np.random.permutation(np.arange(len(test_x_vector)))\n",
    "test_x_vector_shuffled = test_x_vector[shuffled2]\n",
    "test_y_shuffled = test_y[shuffled2]"
   ]
  },
  {
   "cell_type": "code",
   "execution_count": 13,
   "metadata": {},
   "outputs": [
    {
     "name": "stdout",
     "output_type": "stream",
     "text": [
      "WARNING:tensorflow:From <ipython-input-13-8126170c4433>:83: softmax_cross_entropy_with_logits (from tensorflow.python.ops.nn_ops) is deprecated and will be removed in a future version.\n",
      "Instructions for updating:\n",
      "\n",
      "Future major versions of TensorFlow will allow gradients to flow\n",
      "into the labels input on backprop by default.\n",
      "\n",
      "See @{tf.nn.softmax_cross_entropy_with_logits_v2}.\n",
      "\n",
      "WARNING:tensorflow:From c:\\users\\cloud\\appdata\\local\\conda\\conda\\envs\\tensorflow\\lib\\site-packages\\tensorflow\\python\\util\\tf_should_use.py:118: initialize_all_variables (from tensorflow.python.ops.variables) is deprecated and will be removed after 2017-03-02.\n",
      "Instructions for updating:\n",
      "Use `tf.global_variables_initializer` instead.\n",
      "Train epoch 0: loss = 107.22, train accuracy = 53.12%\n",
      "Train epoch 1: loss = 111.82, train accuracy = 53.12%\n",
      "Train epoch 2: loss = 103.24, train accuracy = 54.69%\n",
      "Train epoch 3: loss = 82.25, train accuracy = 57.81%\n",
      "Train epoch 4: loss = 75.37, train accuracy = 60.94%\n",
      "Train epoch 5: loss = 88.42, train accuracy = 50.00%\n",
      "Train epoch 6: loss = 67.02, train accuracy = 50.00%\n",
      "Train epoch 7: loss = 60.26, train accuracy = 54.69%\n",
      "Train epoch 8: loss = 75.77, train accuracy = 53.12%\n",
      "Train epoch 9: loss = 55.62, train accuracy = 51.56%\n",
      "Train epoch 10: loss = 43.67, train accuracy = 64.06%\n",
      "Test set accuracy: 86.33%\n"
     ]
    },
    {
     "data": {
      "text/plain": [
       "'02:51'"
      ]
     },
     "execution_count": 13,
     "metadata": {},
     "output_type": "execute_result"
    }
   ],
   "source": [
    "start = time.time()\n",
    "# Variables\n",
    "epochs = 10\n",
    "batch_size = 64\n",
    "num_steps = int(data_set_size * 2 / batch_size * epochs) # 3900\n",
    "reg_constant = 0.01\n",
    "num_classes = 2\n",
    "vocab_size = max([max(x) for x in total_x_vector]) + 1 # 101244\n",
    "embedding_size = 128 \n",
    "patch_size_1 = 3\n",
    "patch_size_2 = 4\n",
    "patch_size_3 = 5\n",
    "num_channels = 1\n",
    "conv_depth = 128\n",
    "conv_stride = [1, 1, 1, 1]\n",
    "pool_stride = [1, 1, 1, 1]\n",
    "padding = 'VALID'\n",
    "losses = []\n",
    "\n",
    "# Graph\n",
    "with tf.Graph().as_default():\n",
    "    with tf.Session() as session:\n",
    "        # Input data\n",
    "        data_x_tf = tf.placeholder(tf.int32, [batch_size, num_words])\n",
    "        data_y_tf = tf.placeholder(tf.float32, [batch_size, num_classes])\n",
    "        dropout_tf = tf.placeholder(tf.float32)\n",
    "\n",
    "        # Embeddeding\n",
    "        embedding_space = tf.Variable(tf.random_uniform([vocab_size, embedding_size])) \n",
    "        data_x_embedded = tf.nn.embedding_lookup(embedding_space, data_x_tf) \n",
    "        data_x_embedded_expanded = tf.expand_dims(data_x_embedded, -1) \n",
    "\n",
    "        # Fist convolution\n",
    "        conv_1_weights = tf.Variable(tf.truncated_normal([patch_size_1, \n",
    "                                                          embedding_size, \n",
    "                                                          num_channels, \n",
    "                                                          conv_depth]))\n",
    "        conv_1_biases = tf.Variable(tf.constant(0.1, shape=(conv_depth,)))\n",
    "        conv_1 = tf.nn.conv2d(data_x_embedded_expanded, conv_1_weights, conv_stride, padding)\n",
    "        conv_1_relu = tf.nn.relu(tf.nn.bias_add(conv_1, conv_1_biases))\n",
    "        pool_1 = tf.nn.max_pool(conv_1_relu, \n",
    "                                [1, num_words - patch_size_1 + 1, 1, 1], \n",
    "                                pool_stride, padding)\n",
    "\n",
    "        # Second convolution\n",
    "        conv_2_weights = tf.Variable(tf.truncated_normal([patch_size_2, \n",
    "                                                          embedding_size, \n",
    "                                                          num_channels, \n",
    "                                                          conv_depth]))\n",
    "        conv_2_biases = tf.Variable(tf.constant(0.1, shape=(conv_depth,)))\n",
    "        conv_2 = tf.nn.conv2d(data_x_embedded_expanded, conv_2_weights, conv_stride, padding)\n",
    "        conv_2_relu = tf.nn.relu(tf.nn.bias_add(conv_2, conv_2_biases))\n",
    "        pool_2 = tf.nn.max_pool(conv_2_relu, \n",
    "                                [1, num_words - patch_size_2 + 1, 1, 1], \n",
    "                                pool_stride, padding)\n",
    "\n",
    "        # Third convolution\n",
    "        conv_3_weights = tf.Variable(tf.truncated_normal([patch_size_3, \n",
    "                                                          embedding_size, \n",
    "                                                          num_channels, \n",
    "                                                          conv_depth]))\n",
    "        conv_3_biases = tf.Variable(tf.constant(0.1, shape=(conv_depth,)))\n",
    "        conv_3 = tf.nn.conv2d(data_x_embedded_expanded, conv_3_weights, conv_stride, padding)\n",
    "        conv_3_relu = tf.nn.relu(tf.nn.bias_add(conv_3, conv_3_biases))\n",
    "        pool_3 = tf.nn.max_pool(conv_3_relu, \n",
    "                                [1, num_words - patch_size_3 + 1, 1, 1], \n",
    "                                pool_stride, padding)\n",
    "\n",
    "        # Reshape\n",
    "        pool = tf.concat([pool_1, pool_2, pool_3], 3)\n",
    "        pool_shape = pool.get_shape().as_list()\n",
    "        reshaped_pool = tf.reshape(pool, [pool_shape[0],  pool_shape[3]])            \n",
    "        reshaped_pool_dropout = tf.nn.dropout(reshaped_pool, dropout_tf)           \n",
    "\n",
    "        # Output layer weights and biases\n",
    "        output_weights = tf.Variable(tf.truncated_normal([conv_depth * 3, num_classes]))\n",
    "        output_biases = tf.Variable(tf.constant(0.1, shape=(num_classes,)))\n",
    "        output = tf.nn.bias_add(tf.matmul(reshaped_pool_dropout, output_weights), \n",
    "                                output_biases)\n",
    "\n",
    "        # Loss, optimizer, and predictions\n",
    "        regularization = reg_constant * tf.nn.l2_loss(output_weights)\n",
    "        loss = tf.reduce_mean(tf.nn.softmax_cross_entropy_with_logits(logits=output, labels=data_y_tf) + \n",
    "                              regularization)\n",
    "        loss_summary = tf.summary.scalar('loss', loss)\n",
    "        optimizer = tf.train.AdamOptimizer().minimize(loss)\n",
    "        preds = tf.nn.softmax(output)\n",
    "\n",
    "        # Write accuracy to summary\n",
    "        sim = tf.equal(tf.argmax(preds, 1), tf.argmax(data_y_tf, 1))\n",
    "        accuracy = tf.reduce_mean(tf.cast(sim, tf.float32)) * 100\n",
    "        accuracy_summary = tf.summary.scalar('accuracy', accuracy)           \n",
    "        merged_train = tf.summary.merge([loss_summary, accuracy_summary])\n",
    "        summary_writer_train = tf.summary.FileWriter('tensorboard/train', session.graph)\n",
    "        # Train model\n",
    "        tf.initialize_all_variables().run()\n",
    "        for i in range(num_steps):\n",
    "            batch_start = batch_size * i % (data_set_size * 2 - batch_size)\n",
    "            batch_end = batch_start + batch_size\n",
    "            batch_x = train_x_vector_shuffled[batch_start:batch_end,:]\n",
    "            batch_y = train_y_shuffled[batch_start:batch_end,:]            \n",
    "            feed_dict = {data_x_tf: batch_x, data_y_tf: batch_y, dropout_tf: 0.5}\n",
    "            if batch_x.shape == (64,250):\n",
    "                _, l, summary, accuracy_train = session.run([optimizer, \n",
    "                                                             loss, \n",
    "                                                             merged_train, \n",
    "                                                             accuracy], \n",
    "                                                            feed_dict) \n",
    "                summary_writer_train.add_summary(summary, i)            \n",
    "                if i % int(num_steps / epochs) == 0:\n",
    "                    epoch_num = int(i / int(num_steps / epochs))\n",
    "                    print('Train epoch %d: loss = %.2f, train accuracy = %.2f%%' \n",
    "                          % (epoch_num, l, accuracy_train))\n",
    "\n",
    "        # Test model\n",
    "        test_preds_total = []\n",
    "        for i in range(int(np.floor(data_set_size * 2 / batch_size))):\n",
    "            batch_start = batch_size * i\n",
    "            batch_end = batch_start + batch_size\n",
    "            batch_x = test_x_vector_shuffled[batch_start:batch_end,:]\n",
    "            batch_y = test_y_shuffled[batch_start:batch_end,:]\n",
    "            if batch_x.shape == (64,250):\n",
    "                feed_dict = {data_x_tf: batch_x, data_y_tf: batch_y, dropout_tf: 1.0}  \n",
    "                test_preds_total += (session.run([accuracy], feed_dict))\n",
    "        print('Test set accuracy: %.2f%%' % (sum(test_preds_total) / len(test_preds_total)))\n",
    "time.strftime(\"%M:%S\", time.gmtime(time.time() - start))"
   ]
  }
 ],
 "metadata": {
  "kernelspec": {
   "display_name": "Python 3",
   "language": "python",
   "name": "python3"
  },
  "language_info": {
   "codemirror_mode": {
    "name": "ipython",
    "version": 3
   },
   "file_extension": ".py",
   "mimetype": "text/x-python",
   "name": "python",
   "nbconvert_exporter": "python",
   "pygments_lexer": "ipython3",
   "version": "3.5.5"
  }
 },
 "nbformat": 4,
 "nbformat_minor": 2
}
